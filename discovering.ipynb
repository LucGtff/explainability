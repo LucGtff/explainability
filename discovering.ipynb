{
  "nbformat": 4,
  "nbformat_minor": 0,
  "metadata": {
    "colab": {
      "name": "Untitled0.ipynb",
      "provenance": [],
      "authorship_tag": "ABX9TyNmJQw5KJBVKNX+y8fw1aMz",
      "include_colab_link": true
    },
    "kernelspec": {
      "name": "python3",
      "display_name": "Python 3"
    },
    "language_info": {
      "name": "python"
    }
  },
  "cells": [
    {
      "cell_type": "markdown",
      "metadata": {
        "id": "view-in-github",
        "colab_type": "text"
      },
      "source": [
        "<a href=\"https://colab.research.google.com/github/LucGtff/explainability/blob/main/discovering.ipynb\" target=\"_parent\"><img src=\"https://colab.research.google.com/assets/colab-badge.svg\" alt=\"Open In Colab\"/></a>"
      ]
    },
    {
      "cell_type": "code",
      "metadata": {
        "colab": {
          "base_uri": "https://localhost:8080/"
        },
        "id": "GJasrUVn_GzJ",
        "outputId": "4e1e7476-6ecc-43c5-c5b7-7fca08cbbaba"
      },
      "source": [
        "\n",
        "!pip install bcg-facet\n"
      ],
      "execution_count": 2,
      "outputs": [
        {
          "output_type": "stream",
          "text": [
            "\u001b[31mERROR: Could not find a version that satisfies the requirement bcg-facet (from versions: none)\u001b[0m\n",
            "\u001b[31mERROR: No matching distribution found for bcg-facet\u001b[0m\n"
          ],
          "name": "stdout"
        }
      ]
    },
    {
      "cell_type": "code",
      "metadata": {
        "colab": {
          "base_uri": "https://localhost:8080/"
        },
        "id": "Vu7v_WhcByz1",
        "outputId": "2e8f6cdd-47fa-4c34-afc2-ff77633a4a0a"
      },
      "source": [
        "!pip install gamma-facet\n"
      ],
      "execution_count": 3,
      "outputs": [
        {
          "output_type": "stream",
          "text": [
            "Collecting gamma-facet\n",
            "\u001b[?25l  Downloading https://files.pythonhosted.org/packages/83/07/1e7fdc925330c7cd5ce123351f3beb3bafbd8f082dd2f8f31335bf8027ba/gamma_facet-1.0.1-py3-none-any.whl (63kB)\n",
            "\u001b[K     |████████████████████████████████| 71kB 3.4MB/s \n",
            "\u001b[?25hRequirement already satisfied: scipy<1.6,>=1.2 in /usr/local/lib/python3.7/dist-packages (from gamma-facet) (1.4.1)\n",
            "Requirement already satisfied: numpy<1.20,>=1.16 in /usr/local/lib/python3.7/dist-packages (from gamma-facet) (1.19.5)\n",
            "Collecting sklearndf>=1.0.1\n",
            "\u001b[?25l  Downloading https://files.pythonhosted.org/packages/9b/79/5fec67b209d862f88769a6569b7269d229ddbd462d7476dd22cd289d40f8/sklearndf-1.0.2-py3-none-any.whl (48kB)\n",
            "\u001b[K     |████████████████████████████████| 51kB 3.8MB/s \n",
            "\u001b[?25hRequirement already satisfied: scikit-learn<0.24,>=0.21 in /usr/local/lib/python3.7/dist-packages (from gamma-facet) (0.22.2.post1)\n",
            "Requirement already satisfied: matplotlib<3.4,>=3.1 in /usr/local/lib/python3.7/dist-packages (from gamma-facet) (3.2.2)\n",
            "Collecting lightgbm>=3.0\n",
            "\u001b[?25l  Downloading https://files.pythonhosted.org/packages/70/cd/2b7783e8c250f8191b72e9a0010e0429a799d3305c27764d7bf113dfd078/lightgbm-3.1.1-py2.py3-none-manylinux1_x86_64.whl (1.8MB)\n",
            "\u001b[K     |████████████████████████████████| 1.8MB 5.8MB/s \n",
            "\u001b[?25hCollecting shap<0.36,>=0.34\n",
            "\u001b[?25l  Downloading https://files.pythonhosted.org/packages/a8/77/b504e43e21a2ba543a1ac4696718beb500cfa708af2fb57cb54ce299045c/shap-0.35.0.tar.gz (273kB)\n",
            "\u001b[K     |████████████████████████████████| 276kB 18.7MB/s \n",
            "\u001b[?25hRequirement already satisfied: pandas<1.3,>=0.24 in /usr/local/lib/python3.7/dist-packages (from gamma-facet) (1.1.5)\n",
            "Collecting boruta>=0.3\n",
            "\u001b[?25l  Downloading https://files.pythonhosted.org/packages/b2/11/583f4eac99d802c79af9217e1eff56027742a69e6c866b295cce6a5a8fc2/Boruta-0.3-py3-none-any.whl (56kB)\n",
            "\u001b[K     |████████████████████████████████| 61kB 6.3MB/s \n",
            "\u001b[?25hCollecting gamma-pytools>=1.0.1\n",
            "\u001b[?25l  Downloading https://files.pythonhosted.org/packages/93/9e/0ed2d6cc3b4492c092c0569a5595aac8876e821eb963daee210884a976e0/gamma_pytools-1.0.2-py3-none-any.whl (79kB)\n",
            "\u001b[K     |████████████████████████████████| 81kB 6.5MB/s \n",
            "\u001b[?25hCollecting pyyaml>=5.0\n",
            "\u001b[?25l  Downloading https://files.pythonhosted.org/packages/7a/a5/393c087efdc78091afa2af9f1378762f9821c9c1d7a22c5753fb5ac5f97a/PyYAML-5.4.1-cp37-cp37m-manylinux1_x86_64.whl (636kB)\n",
            "\u001b[K     |████████████████████████████████| 645kB 19.1MB/s \n",
            "\u001b[?25hCollecting joblib<1.0,>=0.13\n",
            "\u001b[?25l  Downloading https://files.pythonhosted.org/packages/fc/c9/f58220ac44a1592f79a343caba12f6837f9e0c04c196176a3d66338e1ea8/joblib-0.17.0-py3-none-any.whl (301kB)\n",
            "\u001b[K     |████████████████████████████████| 307kB 25.8MB/s \n",
            "\u001b[?25hRequirement already satisfied: packaging>=20 in /usr/local/lib/python3.7/dist-packages (from sklearndf>=1.0.1->gamma-facet) (20.9)\n",
            "Collecting typing_inspect<0.7,>=0.4\n",
            "  Downloading https://files.pythonhosted.org/packages/42/1c/66402db44184904a2f14722d317a4da0b5c8c78acfc3faf74362566635c5/typing_inspect-0.6.0-py3-none-any.whl\n",
            "Requirement already satisfied: pyparsing!=2.0.4,!=2.1.2,!=2.1.6,>=2.0.1 in /usr/local/lib/python3.7/dist-packages (from matplotlib<3.4,>=3.1->gamma-facet) (2.4.7)\n",
            "Requirement already satisfied: kiwisolver>=1.0.1 in /usr/local/lib/python3.7/dist-packages (from matplotlib<3.4,>=3.1->gamma-facet) (1.3.1)\n",
            "Requirement already satisfied: python-dateutil>=2.1 in /usr/local/lib/python3.7/dist-packages (from matplotlib<3.4,>=3.1->gamma-facet) (2.8.1)\n",
            "Requirement already satisfied: cycler>=0.10 in /usr/local/lib/python3.7/dist-packages (from matplotlib<3.4,>=3.1->gamma-facet) (0.10.0)\n",
            "Requirement already satisfied: wheel in /usr/local/lib/python3.7/dist-packages (from lightgbm>=3.0->gamma-facet) (0.36.2)\n",
            "Requirement already satisfied: tqdm>4.25.0 in /usr/local/lib/python3.7/dist-packages (from shap<0.36,>=0.34->gamma-facet) (4.41.1)\n",
            "Requirement already satisfied: pytz>=2017.2 in /usr/local/lib/python3.7/dist-packages (from pandas<1.3,>=0.24->gamma-facet) (2018.9)\n",
            "Requirement already satisfied: typing-extensions>=3.7.4 in /usr/local/lib/python3.7/dist-packages (from typing_inspect<0.7,>=0.4->sklearndf>=1.0.1->gamma-facet) (3.7.4.3)\n",
            "Collecting mypy-extensions>=0.3.0\n",
            "  Downloading https://files.pythonhosted.org/packages/5c/eb/975c7c080f3223a5cdaff09612f3a5221e4ba534f7039db34c35d95fa6a5/mypy_extensions-0.4.3-py2.py3-none-any.whl\n",
            "Requirement already satisfied: six>=1.5 in /usr/local/lib/python3.7/dist-packages (from python-dateutil>=2.1->matplotlib<3.4,>=3.1->gamma-facet) (1.15.0)\n",
            "Building wheels for collected packages: shap\n",
            "  Building wheel for shap (setup.py) ... \u001b[?25l\u001b[?25hdone\n",
            "  Created wheel for shap: filename=shap-0.35.0-cp37-cp37m-linux_x86_64.whl size=395328 sha256=d77d60d7b5cc241a13544bc60d8259afcb0ae6e1e4944a1b5e05de125c7bcb63\n",
            "  Stored in directory: /root/.cache/pip/wheels/e7/f7/0f/b57055080cf8894906b3bd3616d2fc2bfd0b12d5161bcb24ac\n",
            "Successfully built shap\n",
            "Installing collected packages: joblib, mypy-extensions, typing-inspect, gamma-pytools, lightgbm, boruta, sklearndf, shap, pyyaml, gamma-facet\n",
            "  Found existing installation: joblib 1.0.1\n",
            "    Uninstalling joblib-1.0.1:\n",
            "      Successfully uninstalled joblib-1.0.1\n",
            "  Found existing installation: lightgbm 2.2.3\n",
            "    Uninstalling lightgbm-2.2.3:\n",
            "      Successfully uninstalled lightgbm-2.2.3\n",
            "  Found existing installation: PyYAML 3.13\n",
            "    Uninstalling PyYAML-3.13:\n",
            "      Successfully uninstalled PyYAML-3.13\n",
            "Successfully installed boruta-0.3 gamma-facet-1.0.1 gamma-pytools-1.0.2 joblib-0.17.0 lightgbm-3.1.1 mypy-extensions-0.4.3 pyyaml-5.4.1 shap-0.35.0 sklearndf-1.0.2 typing-inspect-0.6.0\n"
          ],
          "name": "stdout"
        }
      ]
    }
  ]
}